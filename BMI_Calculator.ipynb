{
 "cells": [
  {
   "cell_type": "code",
   "execution_count": 1,
   "id": "f100c596",
   "metadata": {},
   "outputs": [],
   "source": [
    "def BMI():\n",
    "    '''This function calculates the BMI of a person\n",
    "    parameters:\\nName,\\nWeight in kg,\\nHeight in feet'''\n",
    "    \n",
    "    Name=str(input(\"Enter your name: \"))\n",
    "    weight=float(input(\"Enter your weight(kg): \"))\n",
    "    height=float(input(\"Enter your weight(meter): \"))\n",
    "    \n",
    "    bmi=print(f\"\\n{Name.title()}'s BMI is {weight/(height**2)}\")\n",
    "    return bmi"
   ]
  },
  {
   "cell_type": "code",
   "execution_count": 2,
   "id": "8a309048",
   "metadata": {},
   "outputs": [
    {
     "name": "stdout",
     "output_type": "stream",
     "text": [
      "Help on function BMI in module __main__:\n",
      "\n",
      "BMI()\n",
      "    This function calculates the BMI of a person\n",
      "        parameters:\n",
      "    Name,\n",
      "    Weight in kg,\n",
      "    Height in feet\n",
      "\n"
     ]
    }
   ],
   "source": [
    "help(BMI)"
   ]
  },
  {
   "cell_type": "code",
   "execution_count": 3,
   "id": "718f5eed",
   "metadata": {},
   "outputs": [
    {
     "name": "stdout",
     "output_type": "stream",
     "text": [
      "Enter your name: Oogway\n",
      "Enter your weight(kg): 55\n",
      "Enter your weight(meter): 1.6761\n",
      "\n",
      "Oogway's BMI is 19.577752654893654\n"
     ]
    }
   ],
   "source": [
    "BMI()"
   ]
  }
 ],
 "metadata": {
  "kernelspec": {
   "display_name": "Python 3 (ipykernel)",
   "language": "python",
   "name": "python3"
  },
  "language_info": {
   "codemirror_mode": {
    "name": "ipython",
    "version": 3
   },
   "file_extension": ".py",
   "mimetype": "text/x-python",
   "name": "python",
   "nbconvert_exporter": "python",
   "pygments_lexer": "ipython3",
   "version": "3.10.0"
  }
 },
 "nbformat": 4,
 "nbformat_minor": 5
}
