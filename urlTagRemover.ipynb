{
 "cells": [
  {
   "cell_type": "code",
   "execution_count": 1,
   "id": "30fe0d0b",
   "metadata": {},
   "outputs": [],
   "source": [
    "def urlTagRemover():\n",
    "    '''This function removes the url tags:e.g;\\n\\ninput:https://youtube.com\\n\\n>>>youtube'''\n",
    "    \n",
    "    import re\n",
    "    \n",
    "    source=str(input(\"Enter the site name: \"))\n",
    "    \n",
    "    if 'https://www.' in source:\n",
    "        start='https://www.'\n",
    "    elif 'http://www.' in source:\n",
    "        start='http://www.'\n",
    "    else:\n",
    "        start='https://'\n",
    "    end='.'\n",
    "    \n",
    "    source=print(source.split((start))[1].split(end)[0])\n",
    "    return source"
   ]
  },
  {
   "cell_type": "code",
   "execution_count": 2,
   "id": "bf3cc214",
   "metadata": {},
   "outputs": [
    {
     "name": "stdout",
     "output_type": "stream",
     "text": [
      "Help on function urlTagRemover in module __main__:\n",
      "\n",
      "urlTagRemover()\n",
      "    This function removes the url tags:e.g;\n",
      "    \n",
      "    input:https://youtube.com\n",
      "    \n",
      "    >>>youtube\n",
      "\n"
     ]
    }
   ],
   "source": [
    "help(urlTagRemover)"
   ]
  },
  {
   "cell_type": "code",
   "execution_count": 3,
   "id": "8fef91eb",
   "metadata": {},
   "outputs": [
    {
     "name": "stdout",
     "output_type": "stream",
     "text": [
      "Enter the site name: https://www.google.com/search?q=pineapple+apple+pen\n",
      "google\n"
     ]
    }
   ],
   "source": [
    "urlTagRemover()"
   ]
  }
 ],
 "metadata": {
  "kernelspec": {
   "display_name": "Python 3 (ipykernel)",
   "language": "python",
   "name": "python3"
  },
  "language_info": {
   "codemirror_mode": {
    "name": "ipython",
    "version": 3
   },
   "file_extension": ".py",
   "mimetype": "text/x-python",
   "name": "python",
   "nbconvert_exporter": "python",
   "pygments_lexer": "ipython3",
   "version": "3.10.0"
  }
 },
 "nbformat": 4,
 "nbformat_minor": 5
}
